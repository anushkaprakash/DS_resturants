{
 "cells": [
  {
   "cell_type": "code",
   "execution_count": 70,
   "metadata": {},
   "outputs": [],
   "source": [
    "import numpy as np\n",
    "import pandas as pd\n",
    "import matplotlib.pyplot as plt"
   ]
  },
  {
   "cell_type": "code",
   "execution_count": 71,
   "metadata": {},
   "outputs": [
    {
     "data": {
      "text/html": [
       "<div>\n",
       "<style scoped>\n",
       "    .dataframe tbody tr th:only-of-type {\n",
       "        vertical-align: middle;\n",
       "    }\n",
       "\n",
       "    .dataframe tbody tr th {\n",
       "        vertical-align: top;\n",
       "    }\n",
       "\n",
       "    .dataframe thead th {\n",
       "        text-align: right;\n",
       "    }\n",
       "</style>\n",
       "<table border=\"1\" class=\"dataframe\">\n",
       "  <thead>\n",
       "    <tr style=\"text-align: right;\">\n",
       "      <th></th>\n",
       "      <th>Type</th>\n",
       "      <th>Date</th>\n",
       "      <th>Bill Number</th>\n",
       "      <th>Discount</th>\n",
       "      <th>Subtotal</th>\n",
       "      <th>Delivery Amt</th>\n",
       "      <th>Total Bill</th>\n",
       "      <th>Channel</th>\n",
       "      <th>Customer ID</th>\n",
       "      <th>Dish Details</th>\n",
       "    </tr>\n",
       "  </thead>\n",
       "  <tbody>\n",
       "    <tr>\n",
       "      <th>0</th>\n",
       "      <td>Home Delivery</td>\n",
       "      <td>2018-06-01</td>\n",
       "      <td>20083931000</td>\n",
       "      <td>0.0</td>\n",
       "      <td>480.0</td>\n",
       "      <td>20</td>\n",
       "      <td>500</td>\n",
       "      <td>-</td>\n",
       "      <td>38271357206</td>\n",
       "      <td>Tandoori Roti (QTY-1.000),Tandoori Roti (QTY-1...</td>\n",
       "    </tr>\n",
       "    <tr>\n",
       "      <th>1</th>\n",
       "      <td>Dine In</td>\n",
       "      <td>2018-06-01</td>\n",
       "      <td>20083931328</td>\n",
       "      <td>0.0</td>\n",
       "      <td>450.0</td>\n",
       "      <td>0</td>\n",
       "      <td>450</td>\n",
       "      <td>-</td>\n",
       "      <td>UnKnown</td>\n",
       "      <td>Tomato Soup (QTY-1.000),Masala Cheese Maggi (Q...</td>\n",
       "    </tr>\n",
       "    <tr>\n",
       "      <th>2</th>\n",
       "      <td>Home Delivery</td>\n",
       "      <td>2018-06-01</td>\n",
       "      <td>20083931656</td>\n",
       "      <td>0.0</td>\n",
       "      <td>150.0</td>\n",
       "      <td>0</td>\n",
       "      <td>150</td>\n",
       "      <td>Zomato Online</td>\n",
       "      <td>249028087096</td>\n",
       "      <td>Lachchha Paratha (QTY-1.000),Chicken Nilgir (Q...</td>\n",
       "    </tr>\n",
       "    <tr>\n",
       "      <th>3</th>\n",
       "      <td>Home Delivery</td>\n",
       "      <td>2018-06-01</td>\n",
       "      <td>20083931984</td>\n",
       "      <td>0.0</td>\n",
       "      <td>160.0</td>\n",
       "      <td>0</td>\n",
       "      <td>160</td>\n",
       "      <td>Zomato Online</td>\n",
       "      <td>249225356278</td>\n",
       "      <td>Hyderabadi Chicken Fry Piece Biryani (QTY-1.000)</td>\n",
       "    </tr>\n",
       "    <tr>\n",
       "      <th>4</th>\n",
       "      <td>Home Delivery</td>\n",
       "      <td>2018-06-01</td>\n",
       "      <td>20083932312</td>\n",
       "      <td>0.0</td>\n",
       "      <td>160.0</td>\n",
       "      <td>0</td>\n",
       "      <td>160</td>\n",
       "      <td>Zomato Online</td>\n",
       "      <td>249229152321</td>\n",
       "      <td>Hyderabadi Mutton Dum Biryani (QTY-1.000)</td>\n",
       "    </tr>\n",
       "  </tbody>\n",
       "</table>\n",
       "</div>"
      ],
      "text/plain": [
       "            Type        Date  Bill Number  Discount  Subtotal  Delivery Amt  \\\n",
       "0  Home Delivery  2018-06-01  20083931000       0.0     480.0            20   \n",
       "1        Dine In  2018-06-01  20083931328       0.0     450.0             0   \n",
       "2  Home Delivery  2018-06-01  20083931656       0.0     150.0             0   \n",
       "3  Home Delivery  2018-06-01  20083931984       0.0     160.0             0   \n",
       "4  Home Delivery  2018-06-01  20083932312       0.0     160.0             0   \n",
       "\n",
       "   Total Bill        Channel   Customer ID  \\\n",
       "0         500              -   38271357206   \n",
       "1         450              -       UnKnown   \n",
       "2         150  Zomato Online  249028087096   \n",
       "3         160  Zomato Online  249225356278   \n",
       "4         160  Zomato Online  249229152321   \n",
       "\n",
       "                                        Dish Details  \n",
       "0  Tandoori Roti (QTY-1.000),Tandoori Roti (QTY-1...  \n",
       "1  Tomato Soup (QTY-1.000),Masala Cheese Maggi (Q...  \n",
       "2  Lachchha Paratha (QTY-1.000),Chicken Nilgir (Q...  \n",
       "3   Hyderabadi Chicken Fry Piece Biryani (QTY-1.000)  \n",
       "4          Hyderabadi Mutton Dum Biryani (QTY-1.000)  "
      ]
     },
     "execution_count": 71,
     "metadata": {},
     "output_type": "execute_result"
    }
   ],
   "source": [
    "bill = pd.read_csv(\"/Users/anushka/Desktop/Decision Science - Intern/Customer Bill Detail.csv\")\n",
    "bill.head()"
   ]
  },
  {
   "cell_type": "code",
   "execution_count": 72,
   "metadata": {},
   "outputs": [
    {
     "data": {
      "text/html": [
       "<div>\n",
       "<style scoped>\n",
       "    .dataframe tbody tr th:only-of-type {\n",
       "        vertical-align: middle;\n",
       "    }\n",
       "\n",
       "    .dataframe tbody tr th {\n",
       "        vertical-align: top;\n",
       "    }\n",
       "\n",
       "    .dataframe thead th {\n",
       "        text-align: right;\n",
       "    }\n",
       "</style>\n",
       "<table border=\"1\" class=\"dataframe\">\n",
       "  <thead>\n",
       "    <tr style=\"text-align: right;\">\n",
       "      <th></th>\n",
       "      <th>Type</th>\n",
       "      <th>Total Bill</th>\n",
       "      <th>Customer ID</th>\n",
       "      <th>Dish Details</th>\n",
       "    </tr>\n",
       "  </thead>\n",
       "  <tbody>\n",
       "    <tr>\n",
       "      <th>0</th>\n",
       "      <td>Home Delivery</td>\n",
       "      <td>500</td>\n",
       "      <td>38271357206</td>\n",
       "      <td>Tandoori Roti (QTY-1.000),Tandoori Roti (QTY-1...</td>\n",
       "    </tr>\n",
       "    <tr>\n",
       "      <th>1</th>\n",
       "      <td>Dine In</td>\n",
       "      <td>450</td>\n",
       "      <td>UnKnown</td>\n",
       "      <td>Tomato Soup (QTY-1.000),Masala Cheese Maggi (Q...</td>\n",
       "    </tr>\n",
       "    <tr>\n",
       "      <th>2</th>\n",
       "      <td>Home Delivery</td>\n",
       "      <td>150</td>\n",
       "      <td>249028087096</td>\n",
       "      <td>Lachchha Paratha (QTY-1.000),Chicken Nilgir (Q...</td>\n",
       "    </tr>\n",
       "    <tr>\n",
       "      <th>3</th>\n",
       "      <td>Home Delivery</td>\n",
       "      <td>160</td>\n",
       "      <td>249225356278</td>\n",
       "      <td>Hyderabadi Chicken Fry Piece Biryani (QTY-1.000)</td>\n",
       "    </tr>\n",
       "    <tr>\n",
       "      <th>4</th>\n",
       "      <td>Home Delivery</td>\n",
       "      <td>160</td>\n",
       "      <td>249229152321</td>\n",
       "      <td>Hyderabadi Mutton Dum Biryani (QTY-1.000)</td>\n",
       "    </tr>\n",
       "  </tbody>\n",
       "</table>\n",
       "</div>"
      ],
      "text/plain": [
       "            Type  Total Bill   Customer ID  \\\n",
       "0  Home Delivery         500   38271357206   \n",
       "1        Dine In         450       UnKnown   \n",
       "2  Home Delivery         150  249028087096   \n",
       "3  Home Delivery         160  249225356278   \n",
       "4  Home Delivery         160  249229152321   \n",
       "\n",
       "                                        Dish Details  \n",
       "0  Tandoori Roti (QTY-1.000),Tandoori Roti (QTY-1...  \n",
       "1  Tomato Soup (QTY-1.000),Masala Cheese Maggi (Q...  \n",
       "2  Lachchha Paratha (QTY-1.000),Chicken Nilgir (Q...  \n",
       "3   Hyderabadi Chicken Fry Piece Biryani (QTY-1.000)  \n",
       "4          Hyderabadi Mutton Dum Biryani (QTY-1.000)  "
      ]
     },
     "execution_count": 72,
     "metadata": {},
     "output_type": "execute_result"
    }
   ],
   "source": [
    "bill.drop(labels = ['Date','Bill Number','Discount','Subtotal','Delivery Amt', 'Channel'], axis=1, inplace=True)\n",
    "bill.head()\n"
   ]
  },
  {
   "cell_type": "code",
   "execution_count": 73,
   "metadata": {},
   "outputs": [
    {
     "name": "stdout",
     "output_type": "stream",
     "text": [
      "8378\n"
     ]
    },
    {
     "data": {
      "text/plain": [
       "array([   0,    0,    0, ..., 5100, 5700, 6338])"
      ]
     },
     "execution_count": 73,
     "metadata": {},
     "output_type": "execute_result"
    }
   ],
   "source": [
    "p = bill['Total Bill'].values\n",
    "print(len(p))\n",
    "p.sort()\n",
    "p"
   ]
  },
  {
   "cell_type": "code",
   "execution_count": 74,
   "metadata": {},
   "outputs": [
    {
     "data": {
      "text/plain": [
       "Text(0.5,1,'Distribution with equal no. of customers in each bin')"
      ]
     },
     "execution_count": 74,
     "metadata": {},
     "output_type": "execute_result"
    },
    {
     "data": {
      "image/png": "[encoded data removed]",
      "text/plain": [
       "<matplotlib.figure.Figure at 0x116fc5b38>"
      ]
     },
     "metadata": {},
     "output_type": "display_data"
    }
   ],
   "source": [
    "plt.figure()\n",
    "def histedges_equalN(x, nbin):\n",
    "    npt = len(x)\n",
    "    return np.interp(np.linspace(0, npt, nbin + 1),\n",
    "                     np.arange(npt),\n",
    "                     np.sort(x))\n",
    "\n",
    "\n",
    "n, bins, patches = plt.hist(p, histedges_equalN(p, 20))\n",
    "plt.xlabel('Price range')\n",
    "plt.ylabel('No. of customers')\n",
    "plt.title('Distribution with equal no. of customers in each bin')"
   ]
  },
  {
   "cell_type": "code",
   "execution_count": 75,
   "metadata": {},
   "outputs": [
    {
     "data": {
      "text/plain": [
       "Text(0.5,1,'Distribution with equal sized bins (no. of bins=20)')"
      ]
     },
     "execution_count": 75,
     "metadata": {},
     "output_type": "execute_result"
    },
    {
     "data": {
      "image/png": "[encoded data removed]",
      "text/plain": [
       "<matplotlib.figure.Figure at 0x116f8a0b8>"
      ]
     },
     "metadata": {},
     "output_type": "display_data"
    }
   ],
   "source": [
    "plt.figure()\n",
    "plt.hist(p, bins=20)\n",
    "plt.xlabel('Price range')\n",
    "plt.ylabel('No. of customers')\n",
    "plt.title('Distribution with equal sized bins (no. of bins=20)')"
   ]
  },
  {
   "cell_type": "code",
   "execution_count": null,
   "metadata": {},
   "outputs": [],
   "source": []
  }
 ],
 "metadata": {
  "kernelspec": {
   "display_name": "Python 3",
   "language": "python",
   "name": "python3"
  },
  "language_info": {
   "codemirror_mode": {
    "name": "ipython",
    "version": 3
   },
   "file_extension": ".py",
   "mimetype": "text/x-python",
   "name": "python",
   "nbconvert_exporter": "python",
   "pygments_lexer": "ipython3",
   "version": "3.6.4"
  }
 },
 "nbformat": 4,
 "nbformat_minor": 2
}
